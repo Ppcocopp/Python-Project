{
 "cells": [
  {
   "cell_type": "code",
   "execution_count": null,
   "metadata": {},
   "outputs": [],
   "source": [
    "from enum import Enum\n",
    "from typing import Union\n",
    "\n",
    "class Scope :\n",
    "    def __init__(self):\n",
    "        self.var = {}\n",
    "    def get(self, var):\n",
    "        return self.var.get(var)\n",
    "    def set(self, var, value):\n",
    "        self.var[var] = value\n",
    "\n",
    "class binstr(Enum):\n",
    "    AND = 1\n",
    "    OR = 2\n",
    "    NOT = 3\n",
    "\n",
    "class bexp:\n",
    "\n",
    "    left = Union[bool, 'bexp']\n",
    "    instr = binstr\n",
    "    right = 'bexp'\n",
    "\n",
    "    def __init__(self, left: Union[bool, 'bexp'], instr: binstr = None, right: 'bexp' = None):\n",
    "        self.left = left\n",
    "        self.right = right\n",
    "        self.instr = instr\n",
    "\n",
    "    def evalB(self) -> bool:\n",
    "        '''Evaluates the bexp'''\n",
    "        match self.instr:\n",
    "            case None:\n",
    "                return self.left\n",
    "            case binstr.AND:\n",
    "                l = self.left.evalB()\n",
    "                r = self.right.evalB()\n",
    "                return (l and r)\n",
    "            case binstr.OR:\n",
    "                l = self.left.evalB()\n",
    "                r = self.right.evalB()\n",
    "                return (l or r)\n",
    "            case binstr.NOT:\n",
    "                l = self.left.evalB()\n",
    "                return (not l)\n",
    "            case _:\n",
    "                print(\"Wrong binstr\")\n",
    "                exit(1)\n",
    "    \n",
    "    def __str__(self) -> str:\n",
    "        match self.instr:\n",
    "            case None:\n",
    "                return str(self.left)\n",
    "            case binstr.AND:\n",
    "                l = str(self.left)\n",
    "                r = str(self.right)\n",
    "                return (l + ' and ' + r)\n",
    "            case binstr.OR:\n",
    "                l = str(self.left)\n",
    "                r = str(self.right)\n",
    "                return (l + ' or ' + r)\n",
    "            case binstr.NOT:\n",
    "                l = str(self.left)\n",
    "                return ('not '+ l)\n",
    "            case _:\n",
    "                print(\"Wrong binstr\")\n",
    "                exit(1)"
   ]
  }
 ],
 "metadata": {
  "kernelspec": {
   "display_name": "Python 3",
   "language": "python",
   "name": "python3"
  },
  "language_info": {
   "name": "python",
   "version": "3.10.9 (tags/v3.10.9:1dd9be6, Dec  6 2022, 20:01:21) [MSC v.1934 64 bit (AMD64)]"
  },
  "orig_nbformat": 4,
  "vscode": {
   "interpreter": {
    "hash": "84ba6437bb57043618efb82fefdf13a160864999c9ebb2e151bb6dfc54b5a852"
   }
  }
 },
 "nbformat": 4,
 "nbformat_minor": 2
}
